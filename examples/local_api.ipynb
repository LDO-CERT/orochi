{
 "cells": [
  {
   "cell_type": "code",
   "execution_count": null,
   "metadata": {},
   "outputs": [],
   "source": [
    "import getpass\n",
    "from requests import Session\n",
    "from pprint import pprint\n",
    "\n",
    "url = \"http://127.0.0.1\"\n",
    "user = input()\n",
    "password = getpass.getpass()"
   ]
  },
  {
   "cell_type": "markdown",
   "metadata": {},
   "source": [
    "# LOGIN"
   ]
  },
  {
   "cell_type": "code",
   "execution_count": null,
   "metadata": {},
   "outputs": [],
   "source": [
    "session = Session()\n",
    "req = session.post(\n",
    "    f\"{url}/auth-token/\", \n",
    "    data={\"username\": user, \"password\": password}\n",
    ")\n",
    "if req.status_code != 200:\n",
    "    print(req.json())\n",
    "    exit(1)\n",
    "token = req.json()[\"token\"]\n",
    "session.headers[\"Authorization\"] = f\"Token {token}\""
   ]
  },
  {
   "cell_type": "markdown",
   "metadata": {},
   "source": [
    "# GET DUMP LIST"
   ]
  },
  {
   "cell_type": "code",
   "execution_count": null,
   "metadata": {},
   "outputs": [],
   "source": [
    "dumps = session.get(f\"{url}/api/dumps/\").json()\n",
    "print(f\"{len(dumps)} dumps found\")\n",
    "pprint(dumps[0])"
   ]
  },
  {
   "cell_type": "markdown",
   "metadata": {},
   "source": [
    "# CREATE DUMP"
   ]
  },
  {
   "cell_type": "code",
   "execution_count": null,
   "metadata": {},
   "outputs": [],
   "source": [
    "files = {'upload': open('/home/DATA/AMF_MemorySamples/linux/sorpresa.zip','rb')}\n",
    "values = {'operating_system': 'Linux', 'name': 'sorpresa'}\n",
    "res = session.post(f\"{url}/api/dumps/\", files=files, data=values)\n",
    "if res.status_code == 200:\n",
    "    pprint(res.json())\n",
    "    dump_pk = res.json()[\"pk\"]\n",
    "else:\n",
    "    print(res.status_code)"
   ]
  },
  {
   "cell_type": "markdown",
   "metadata": {},
   "source": [
    "# CREATE DUMP FROM REMOTE DUMP"
   ]
  },
  {
   "cell_type": "code",
   "execution_count": null,
   "metadata": {},
   "outputs": [],
   "source": [
    "# This code requires a file on the server in the folder specified in the LOCAL_UPLOAD_PATH\n",
    "# settings folder\n",
    "\n",
    "res = session.post(f\"{url}/api/dumps/import_local/\", files=(\n",
    "        ('operating_system', (None, 'Linux')),\n",
    "        ('name', (None, 'sasf3sfas33')),\n",
    "        ('filepath', (None, '/uploads/linux/linux-sample-4.bin')),\n",
    "    ))\n",
    "if res.status_code == 200:\n",
    "    pprint(res.json())\n",
    "else:\n",
    "    print(res.status_code)"
   ]
  },
  {
   "cell_type": "markdown",
   "metadata": {},
   "source": [
    "# GET PLUGIN LIST"
   ]
  },
  {
   "cell_type": "code",
   "execution_count": null,
   "metadata": {},
   "outputs": [],
   "source": [
    "res = session.get(f\"{url}/api/plugin/\")\n",
    "if res.status_code == 200:\n",
    "    plugins = res.json()\n",
    "    print(f\"{len(plugins)} plugins found\")\n",
    "    pprint(plugins[0])"
   ]
  },
  {
   "cell_type": "markdown",
   "metadata": {},
   "source": [
    "# GET PLUGIN STATUS ON SELECTED DUMP"
   ]
  },
  {
   "cell_type": "code",
   "execution_count": null,
   "metadata": {},
   "outputs": [],
   "source": [
    "res = session.get(f\"{url}/api/dumps/{dump_pk}/results/\")\n",
    "if res.status_code == 200:\n",
    "    pprint(res.json())\n",
    "    result_pk = [x['pk'] for x in res.json() if x['plugin'] == 'linux.pslist.PsList'][0]\n",
    "    print(res.status_code)"
   ]
  },
  {
   "cell_type": "markdown",
   "metadata": {},
   "source": [
    "# RESUBMIT PLUGIN"
   ]
  },
  {
   "cell_type": "code",
   "execution_count": null,
   "metadata": {},
   "outputs": [],
   "source": [
    "res = session.post(f\"{url}/api/dumps/{dump_pk}/results/{result_pk}/resubmit/\", data={'parameter': {'dump': True}})\n",
    "if res.status_code == 200:\n",
    "    pprint(res.json())\n",
    "else:\n",
    "    print(res.status_code)"
   ]
  },
  {
   "cell_type": "markdown",
   "metadata": {},
   "source": [
    "# CHECK PLUGIN STATUS"
   ]
  },
  {
   "cell_type": "code",
   "execution_count": null,
   "metadata": {},
   "outputs": [],
   "source": [
    "status = 'Running'\n",
    "while status != 'Success':\n",
    "    res = session.get(f\"{url}/api/dumps/{dump_pk}/results/{result_pk}/\")\n",
    "    if res.status_code == 200:\n",
    "        status = res.json()['status']\n",
    "        pprint(status)\n",
    "    else:\n",
    "        print(res.status_code)\n",
    "        break"
   ]
  },
  {
   "cell_type": "markdown",
   "metadata": {},
   "source": [
    "# SHOW PLUGIN RESULT"
   ]
  },
  {
   "cell_type": "code",
   "execution_count": null,
   "metadata": {},
   "outputs": [],
   "source": [
    "res = session.get(f\"{url}/api/dumps/{dump_pk}/results/{result_pk}/result\")\n",
    "if res.status_code == 200:\n",
    "    pprint(len(res.json()))\n",
    "else:\n",
    "    print(res.status_code)"
   ]
  },
  {
   "cell_type": "markdown",
   "metadata": {},
   "source": [
    "# WORK WITH RETURNED DATA"
   ]
  },
  {
   "cell_type": "code",
   "execution_count": null,
   "metadata": {},
   "outputs": [],
   "source": [
    "import pandas as pd\n",
    "import pygwalker as pyg\n",
    "df = pd.DataFrame.from_records(res.json())\n",
    "walker = pyg.walk(df)"
   ]
  }
 ],
 "metadata": {
  "kernelspec": {
   "display_name": "orochi",
   "language": "python",
   "name": "python3"
  },
  "language_info": {
   "codemirror_mode": {
    "name": "ipython",
    "version": 3
   },
   "file_extension": ".py",
   "mimetype": "text/x-python",
   "name": "python",
   "nbconvert_exporter": "python",
   "pygments_lexer": "ipython3",
   "version": "3.10.13"
  }
 },
 "nbformat": 4,
 "nbformat_minor": 2
}
